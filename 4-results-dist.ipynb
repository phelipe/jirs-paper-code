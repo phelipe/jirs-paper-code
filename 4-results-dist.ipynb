{
 "cells": [
  {
   "cell_type": "code",
   "execution_count": null,
   "metadata": {},
   "outputs": [],
   "source": [
    "using RigidBodySim\n",
    "using RigidBodyDynamics\n",
    "using Plots\n",
    "using LinearAlgebra\n",
    "using Statistics\n",
    "using SpecialFunctions\n",
    "using Swarm\n",
    "using Trajectory\n",
    "using PerformanceIndex\n",
    "include(\"src/fracionario.jl\")\n",
    "include(\"src/simulation.jl\")\n",
    "include(\"src/graficos.jl\");"
   ]
  },
  {
   "cell_type": "code",
   "execution_count": null,
   "metadata": {},
   "outputs": [],
   "source": [
    "urdf = \"src/pelican.urdf\"\n",
    "robot = parse_urdf(urdf) # load dynamic\n",
    "initial_state = MechanismState(robot) # inicial conditions \n",
    "num_joints = num_positions(initial_state); # joints quantity"
   ]
  },
  {
   "cell_type": "code",
   "execution_count": null,
   "metadata": {},
   "outputs": [],
   "source": [
    "time_end = 3.0 # simulation time\n",
    "Δt = 0.05; # discretization time\n",
    "saturation_value = [200., 15.]\n",
    "\n",
    "### GAINS ############\n",
    "\n",
    "kpz = [ 2500., 100.]\n",
    "kvz = [180., 10.]\n",
    "lambdaz = [1., 1.];\n",
    "\n",
    "kpo = [9202.86, 405.272]\n",
    "kvo = [161.648, 10.0]\n",
    "lambdao = [1., 1.]\n",
    "\n",
    "kpf = [2769.38, 10.0]\n",
    "kvf = [3016.76, 58.0633]\n",
    "lambdaf = [0.470696, 0.834637];"
   ]
  },
  {
   "cell_type": "code",
   "execution_count": null,
   "metadata": {},
   "outputs": [],
   "source": [
    "final_position = 0.8\n",
    "xr, vr, ar, jr = minimumjerk(fill( final_position, num_joints), time_end);"
   ]
  },
  {
   "cell_type": "code",
   "execution_count": null,
   "metadata": {},
   "outputs": [],
   "source": [
    "function pertubacao(state, time)\n",
    "    a =  (final_position)*(sin(20*time) + cos(12*time))\n",
    "    return [a, a]\n",
    "end"
   ]
  },
  {
   "cell_type": "code",
   "execution_count": null,
   "metadata": {},
   "outputs": [],
   "source": [
    "x, v, a, j, time_out, ta, tj, max_torque = simulationPDDigitalFractionalPert(kpz, kvz, lambdaz, xr, vr, ar, jr, robot,\n",
    "    initial_state,pertubacao, Δt, time_end, showtorque = true, maxTorque = saturation_value);\n",
    "ex, ev, ea, ej, time_out, ta, tj = erroPDDigitalFractionalPert(kpz, kvz,lambdaz, xr, vr, ar, jr, robot,\n",
    "    initial_state,pertubacao, Δt, time_end, maxTorque = saturation_value)\n",
    "\n",
    "xo, vo, ao, jo, time_outo, tao, tjo, max_torqueo = simulationPDDigitalFractionalPert(kpo, kvo,lambdao, xr, vr, ar,\n",
    "    jr, robot, initial_state,pertubacao, Δt, time_end, showtorque = true, maxTorque = saturation_value);\n",
    "exo, evo, eao, ejo, time_outo, tao, tjo = erroPDDigitalFractionalPert(kpo, kvo,lambdao, xr, vr, ar, jr, robot,\n",
    "    initial_state,pertubacao, Δt, time_end, maxTorque = saturation_value)\n",
    "\n",
    "xf, vf, af, jf, time_outf, taf, tjf, max_torquef = simulationPDDigitalFractionalPert(kpf, kvf,lambdaf, xr, vr, ar,\n",
    "    jr, robot, initial_state,pertubacao, Δt, time_end, showtorque = true, maxTorque = saturation_value);\n",
    "exf, evf, eaf, ejf, time_outf, taf, tjf = erroPDDigitalFractionalPert(kpf, kvf,lambdaf, xr, vr, ar, jr, robot,\n",
    "    initial_state,pertubacao, Δt, time_end, maxTorque = saturation_value);"
   ]
  },
  {
   "cell_type": "code",
   "execution_count": null,
   "metadata": {},
   "outputs": [],
   "source": [
    "plot_xv(time_out, x, xo, xf,xr, v, vo ,vf, vr, 1)"
   ]
  },
  {
   "cell_type": "code",
   "execution_count": null,
   "metadata": {},
   "outputs": [],
   "source": [
    "plot_aj(ta, tj, a,  ao, af, ar, j, jo,jf, jr, 1)"
   ]
  },
  {
   "cell_type": "code",
   "execution_count": null,
   "metadata": {},
   "outputs": [],
   "source": [
    "plot_xv(time_out, x, xo, xf,xr, v, vo ,vf, vr, 2)"
   ]
  },
  {
   "cell_type": "code",
   "execution_count": null,
   "metadata": {},
   "outputs": [],
   "source": [
    "plot_aj(ta, tj, a,  ao, af, ar, j, jo,jf, jr, 2)"
   ]
  }
 ],
 "metadata": {
  "kernel_info": {
   "name": "julia-1.2"
  },
  "kernelspec": {
   "display_name": "Julia 1.4.1",
   "language": "julia",
   "name": "julia-1.4"
  },
  "language_info": {
   "file_extension": ".jl",
   "mimetype": "application/julia",
   "name": "julia",
   "version": "1.4.1"
  },
  "nteract": {
   "version": "0.15.0"
  }
 },
 "nbformat": 4,
 "nbformat_minor": 2
}
