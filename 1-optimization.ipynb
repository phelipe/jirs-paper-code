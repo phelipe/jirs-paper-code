{
 "cells": [
  {
   "cell_type": "code",
   "execution_count": null,
   "metadata": {},
   "outputs": [],
   "source": [
    "using RigidBodySim\n",
    "using RigidBodyDynamics\n",
    "using Plots\n",
    "using LinearAlgebra\n",
    "using Statistics\n",
    "using SpecialFunctions\n",
    "using Swarm\n",
    "using Trajectory\n",
    "using PerformanceIndex\n",
    "include(\"src/fracionario.jl\")\n",
    "include(\"src/simulation.jl\");"
   ]
  },
  {
   "cell_type": "code",
   "execution_count": null,
   "metadata": {},
   "outputs": [],
   "source": [
    "urdf = \"src/pelican.urdf\"\n",
    "robot = parse_urdf(urdf) # load dynamic\n",
    "initial_state = MechanismState(robot) # inicial conditions \n",
    "num_joints = num_positions(initial_state); # joints quantity"
   ]
  },
  {
   "cell_type": "code",
   "execution_count": null,
   "metadata": {},
   "outputs": [],
   "source": [
    "time_end = 2. #simulation time\n",
    "Δt = 0.05  # discretization time\n",
    "lb = vcat(fill(10., num_joints * 2), zeros(2) )# lower bound\n",
    "ub = fill( 10000. ,num_joints * 2) #upper bound\n",
    "ub = vcat(ub, ones(num_joints))\n",
    "saturation_value = [200., 15.];"
   ]
  },
  {
   "cell_type": "code",
   "execution_count": null,
   "metadata": {},
   "outputs": [],
   "source": [
    "# Trajectory generation\n",
    "\n",
    "final_position = 0.8\n",
    "xr, vr, ar, jr = minimumjerk(fill(final_position , num_joints), time_end);"
   ]
  },
  {
   "cell_type": "code",
   "execution_count": null,
   "metadata": {},
   "outputs": [],
   "source": [
    "function objetivo(data::Vector{Float64})\n",
    "    kp_local = data[1:num_joints]\n",
    "    kv_local = data[(num_joints + 1):(num_joints * 2)]\n",
    "    lambda_local = [1.,1.]\n",
    "    \n",
    "    ex, ev, ea, ej, tout, ta, tj = erroPDDigitalFractional(kp_local, \n",
    "        kv_local, lambda_local, xr, vr, ar, jr, robot,\n",
    "        initial_state, Δt, time_end, maxTorque = saturation_value);\n",
    "    return sum(iae(ej)) + sum(iae(ex))\n",
    "end;"
   ]
  },
  {
   "cell_type": "code",
   "execution_count": null,
   "metadata": {},
   "outputs": [],
   "source": [
    "ψ  = 0.7  # =>constriction factor\n",
    "ϕp = 0.5  # => particle acceleration coefficient\n",
    "ϕg = 0.5  # => group acceleration coefficient\n",
    "iter = 150  # => iterations\n",
    "num_particles = 50  # => amount of particles\n",
    "min_step = 1e-4 # => stopping criterion\n",
    "min_func = 1e-4 # => stopping criterion\n",
    "log = false     # => log\n",
    " \n",
    "particles_pso = Particles(num_particles, lb, ub);"
   ]
  },
  {
   "cell_type": "code",
   "execution_count": null,
   "metadata": {},
   "outputs": [],
   "source": [
    "pso(particles_pso, objetivo, verbose = log, minfunc = min_func,\n",
    "    minstep = min_step, psi = ψ, phip = ϕp , phig = ϕg,\n",
    "    maxiter = iter, localsearch = false, neighborhood = 10)"
   ]
  },
  {
   "cell_type": "code",
   "execution_count": null,
   "metadata": {},
   "outputs": [],
   "source": [
    "println(\"kp = $(particles_pso.best_position[1:num_joints])\")\n",
    "println(\"kv = $(particles_pso.best_position[(num_joints+1):(num_joints * 2)])\")\n",
    "println(\"Fitness = $(particles_pso.best_value)\")"
   ]
  },
  {
   "cell_type": "code",
   "execution_count": null,
   "metadata": {},
   "outputs": [],
   "source": [
    "plot(particles_pso.history, xlabel = \"Iteration\", ylabel=\"Fitness\")"
   ]
  },
  {
   "cell_type": "code",
   "execution_count": null,
   "metadata": {},
   "outputs": [],
   "source": []
  }
 ],
 "metadata": {
  "@webio": {
   "lastCommId": null,
   "lastKernelId": null
  },
  "kernelspec": {
   "display_name": "Julia 1.4.1",
   "language": "julia",
   "name": "julia-1.4"
  },
  "language_info": {
   "file_extension": ".jl",
   "mimetype": "application/julia",
   "name": "julia",
   "version": "1.4.1"
  },
  "nteract": {
   "version": "0.15.0"
  }
 },
 "nbformat": 4,
 "nbformat_minor": 2
}
