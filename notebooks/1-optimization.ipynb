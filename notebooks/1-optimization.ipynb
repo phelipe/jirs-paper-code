{
 "cells": [
  {
   "cell_type": "code",
   "execution_count": null,
   "metadata": {},
   "outputs": [],
   "source": [
    "using RigidBodySim\n",
    "using RigidBodyDynamics\n",
    "using Plots\n",
    "using LinearAlgebra\n",
    "using Statistics\n",
    "using SpecialFunctions\n",
    "using Swarm\n",
    "using Trajectory\n",
    "using PerformanceIndex\n",
    "include(\"../src/fracionario.jl\")\n",
    "include(\"../src/simulation.jl\");"
   ]
  },
  {
   "cell_type": "code",
   "execution_count": null,
   "metadata": {},
   "outputs": [],
   "source": [
    "urdf = \"../src/pelican.urdf\"\n",
    "robot = parse_urdf(urdf) \n",
    "initial_state = MechanismState(robot) # cria condições iniciais nulas para o sistema \n",
    "num_joints = num_positions(initial_state); # quantidade total de juntas"
   ]
  },
  {
   "cell_type": "code",
   "execution_count": null,
   "metadata": {},
   "outputs": [],
   "source": [
    "time_end = 2. #tempo total de simulação\n",
    "Δt = 0.05  #salva a cada Δt segundos\n",
    "lb = vcat(fill(10., num_joints * 2), zeros(2) )# limite inferior dos ganhos para otimização\n",
    "                           # e do expoente da derivada\n",
    "ub = fill( 10000. ,num_joints * 2) #limite superior dos ganhos para otimização\n",
    "ub = vcat(ub, ones(num_joints))\n",
    "saturation_value = [200., 15.];"
   ]
  },
  {
   "cell_type": "code",
   "execution_count": null,
   "metadata": {},
   "outputs": [],
   "source": [
    "# Dados para dinâmica inversa e geração das trajetórias\n",
    "\n",
    "final_position = 0.8\n",
    "xr, vr, ar, jr = minimumjerk(fill(final_position , num_joints), time_end);"
   ]
  },
  {
   "cell_type": "code",
   "execution_count": null,
   "metadata": {},
   "outputs": [],
   "source": [
    "function objetivo(data::Vector{Float64})\n",
    "    kp_local = data[1:num_joints]\n",
    "    kv_local = data[(num_joints + 1):(num_joints * 2)]\n",
    "    lambda_local = [1.,1.]\n",
    "    \n",
    "    ex, ev, ea, ej, tout, ta, tj = erroPDDigitalFractional(kp_local, \n",
    "        kv_local, lambda_local, xr, vr, ar, jr, robot,\n",
    "        initial_state, Δt, time_end, maxTorque = saturation_value);\n",
    "    return sum(iae(ej)) + sum(iae(ex))\n",
    "end;"
   ]
  },
  {
   "cell_type": "code",
   "execution_count": null,
   "metadata": {},
   "outputs": [],
   "source": [
    "#variáveis\n",
    "ψ  = 0.7  # => fator de constrição\n",
    "ϕp = 0.5  # => coeficiente de aceleração partícula\n",
    "ϕg = 0.5  # => coeficiente de aceleração grupo\n",
    "iter = 150  # => iterações\n",
    "num_particles = 50  # => quantidade de partículas \n",
    "min_step = 1e-4 # => critério de parada\n",
    "min_func = 1e-4 # => critério de parada\n",
    "log = false     # => exibe mensagens de log\n",
    " \n",
    "#gera partículas iguais para cada otimização\n",
    "particles_pso = Particles(num_particles, lb, ub);"
   ]
  },
  {
   "cell_type": "code",
   "execution_count": null,
   "metadata": {},
   "outputs": [],
   "source": [
    "pso(particles_pso, objetivo, verbose = log, minfunc = min_func,\n",
    "    minstep = min_step, psi = ψ, phip = ϕp , phig = ϕg,\n",
    "    maxiter = iter, localsearch = false, neighborhood = 10)"
   ]
  },
  {
   "cell_type": "code",
   "execution_count": null,
   "metadata": {},
   "outputs": [],
   "source": [
    "println(\"kp = $(particles_pso.best_position[1:num_joints])\")\n",
    "println(\"kv = $(particles_pso.best_position[(num_joints+1):(num_joints * 2)])\")\n",
    "println(\"Fitness = $(particles_pso.best_value)\")"
   ]
  },
  {
   "cell_type": "code",
   "execution_count": null,
   "metadata": {},
   "outputs": [],
   "source": [
    "plot(particles_pso.history, xlabel = \"Iteration\", ylabel=\"Fitness\")"
   ]
  }
 ],
 "metadata": {
  "kernelspec": {
   "display_name": "Julia 1.1.0",
   "language": "julia",
   "name": "julia-1.1"
  },
  "language_info": {
   "file_extension": ".jl",
   "mimetype": "application/julia",
   "name": "julia",
   "version": "1.1.1"
  }
 },
 "nbformat": 4,
 "nbformat_minor": 2
}
