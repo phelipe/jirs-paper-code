{
 "cells": [
  {
   "cell_type": "code",
   "execution_count": null,
   "metadata": {
    "scrolled": true
   },
   "outputs": [],
   "source": [
    "using RigidBodySim\n",
    "using RigidBodyDynamics\n",
    "using Plots\n",
    "using LinearAlgebra\n",
    "using Statistics\n",
    "using SpecialFunctions\n",
    "using Swarm\n",
    "using Trajectory\n",
    "using PerformanceIndex\n",
    "using StaticArrays\n",
    "include(\"src/fracionario.jl\")\n",
    "include(\"src/simulation.jl\")\n",
    "include(\"src/graficos.jl\");"
   ]
  },
  {
   "cell_type": "code",
   "execution_count": null,
   "metadata": {
    "scrolled": true
   },
   "outputs": [],
   "source": [
    "urdf = \"src/pelican.urdf\"\n",
    "robot = parse_urdf(urdf) # load dynamic\n",
    "initial_state = MechanismState(robot) # inicial conditions \n",
    "num_joints = num_positions(initial_state); # joints quantity"
   ]
  },
  {
   "cell_type": "code",
   "execution_count": null,
   "metadata": {
    "scrolled": true
   },
   "outputs": [],
   "source": [
    "mass(robot)"
   ]
  },
  {
   "cell_type": "code",
   "execution_count": null,
   "metadata": {
    "scrolled": true
   },
   "outputs": [],
   "source": [
    "axis = SVector(0., 1., 0.) # joint axis\n",
    "I_1 = 0.333 # moment of inertia about joint axis\n",
    "c_1 = -0.15 # center of mass location with respect to joint axis\n",
    "m_1 = 5. # mass\n",
    "frame1 = CartesianFrame3D(\"new\") # the reference frame in which the spatial inertia will be expressed\n",
    "inertia1 = SpatialInertia(frame1, I_1 * axis * axis', m_1 * SVector(0, 0, c_1), m_1)\n",
    "body = RigidBody(inertia1)\n",
    "attach!(robot, last(bodies(robot)), body, Joint(\"elbow\", Fixed{Float64}()) )\n",
    "remove_fixed_tree_joints!(robot);"
   ]
  },
  {
   "cell_type": "code",
   "execution_count": null,
   "metadata": {
    "scrolled": true
   },
   "outputs": [],
   "source": [
    "mass(robot)"
   ]
  },
  {
   "cell_type": "code",
   "execution_count": null,
   "metadata": {
    "scrolled": true
   },
   "outputs": [],
   "source": [
    "time_end = 3.0 # simulation time\n",
    "Δt = 0.05; # discretization time\n",
    "saturation_value = [200., 15.]\n",
    "\n",
    "### GAINS ############\n",
    "\n",
    "kpz = [ 2500., 100.]\n",
    "kvz = [180., 10.]\n",
    "lambdaz = [1., 1.];\n",
    "\n",
    "kpo = [9202.86, 405.272]\n",
    "kvo = [161.648, 10.0]\n",
    "lambdao = [1., 1.]\n",
    "\n",
    "kpf = [2769.38, 10.0]\n",
    "kvf = [3016.76, 58.0633]\n",
    "lambdaf = [0.470696, 0.834637];"
   ]
  },
  {
   "cell_type": "code",
   "execution_count": null,
   "metadata": {
    "scrolled": true
   },
   "outputs": [],
   "source": [
    "final_position = 0.8\n",
    "xr, vr, ar, jr = minimumjerk(fill( final_position, num_joints), time_end);"
   ]
  },
  {
   "cell_type": "code",
   "execution_count": null,
   "metadata": {
    "scrolled": true
   },
   "outputs": [],
   "source": [
    "x, v, a, j, time_out, ta, tj, max_torque = simulationPDDigitalFractional(kpz, kvz, lambdaz, xr, vr, ar, jr, robot,\n",
    "    initial_state, Δt, time_end, showtorque = true, maxTorque = saturation_value);\n",
    "ex, ev, ea, ej, time_out, ta, tj = erroPDDigitalFractional(kpz, kvz,lambdaz, xr, vr, ar, jr, robot,\n",
    "    initial_state, Δt, time_end, maxTorque = saturation_value)\n",
    "\n",
    "xo, vo, ao, jo, time_outo, tao, tjo, max_torqueo = simulationPDDigitalFractional(kpo, kvo,lambdao, xr, vr, ar,\n",
    "    jr, robot, initial_state, Δt, time_end, showtorque = true, maxTorque = saturation_value);\n",
    "exo, evo, eao, ejo, time_outo, tao, tjo = erroPDDigitalFractional(kpo, kvo,lambdao, xr, vr, ar, jr, robot,\n",
    "    initial_state, Δt, time_end, maxTorque = saturation_value)\n",
    "\n",
    "xf, vf, af, jf, time_outf, taf, tjf, max_torquef = simulationPDDigitalFractional(kpf, kvf,lambdaf, xr, vr, ar,\n",
    "    jr, robot, initial_state, Δt, time_end, showtorque = true, maxTorque = saturation_value);\n",
    "exf, evf, eaf, ejf, time_outf, taf, tjf = erroPDDigitalFractional(kpf, kvf,lambdaf, xr, vr, ar, jr, robot,\n",
    "    initial_state, Δt, time_end, maxTorque = saturation_value);"
   ]
  },
  {
   "cell_type": "code",
   "execution_count": null,
   "metadata": {
    "scrolled": true
   },
   "outputs": [],
   "source": [
    "plot_xv(time_out, x, xo, xf,xr, v, vo ,vf, vr, 1)"
   ]
  },
  {
   "cell_type": "code",
   "execution_count": null,
   "metadata": {
    "scrolled": true
   },
   "outputs": [],
   "source": [
    "plot_aj(ta, tj, a,  ao, af, ar, j, jo,jf, jr, 1)"
   ]
  },
  {
   "cell_type": "code",
   "execution_count": null,
   "metadata": {
    "scrolled": true
   },
   "outputs": [],
   "source": [
    "plot_xv(time_out, x, xo, xf,xr, v, vo ,vf, vr, 2)"
   ]
  },
  {
   "cell_type": "code",
   "execution_count": null,
   "metadata": {
    "scrolled": true
   },
   "outputs": [],
   "source": [
    "plot_aj(ta, tj, a,  ao, af, ar, j, jo,jf, jr, 2)"
   ]
  }
 ],
 "metadata": {
  "kernelspec": {
   "display_name": "Julia 1.4.1",
   "language": "julia",
   "name": "julia-1.4"
  },
  "language_info": {
   "file_extension": ".jl",
   "mimetype": "application/julia",
   "name": "julia",
   "version": "1.4.1"
  },
  "nteract": {
   "version": "0.15.0"
  }
 },
 "nbformat": 4,
 "nbformat_minor": 2
}
